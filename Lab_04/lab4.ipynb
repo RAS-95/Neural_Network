{
 "cells": [
  {
   "cell_type": "code",
   "execution_count": 91,
   "id": "843f914a-9ecc-4881-8f14-272c98e34c27",
   "metadata": {},
   "outputs": [],
   "source": [
    "import numpy as np\n",
    "import copy\n",
    "import pandas as pd\n",
    "from sklearn.model_selection import train_test_split\n",
    "from sklearn.metrics import confusion_matrix, accuracy_score, f1_score"
   ]
  },
  {
   "cell_type": "code",
   "execution_count": 72,
   "id": "a95787e6-750b-4f48-90ac-6b6084e352b2",
   "metadata": {},
   "outputs": [
    {
     "name": "stdout",
     "output_type": "stream",
     "text": [
      "[[0.34612069 0.94707788 0.40998374 0.24815047]\n",
      " [0.98305287 0.73072186 0.24064769 0.00471835]]\n",
      "[1.116432432795445, 1.248311237289451]\n"
     ]
    }
   ],
   "source": [
    "x = np.random.rand(8).reshape(-1, 4)\n",
    "print(x)\n",
    "print([np.linalg.norm(e) for e in x])"
   ]
  },
  {
   "cell_type": "code",
   "execution_count": 122,
   "id": "1484e686-a26b-4cae-bc06-787ac68e0fca",
   "metadata": {},
   "outputs": [],
   "source": [
    "class KSON:\n",
    "    def __init__(self, num_inputs, num_outputs, learning_rate=0.01, epochs=100):\n",
    "        self.num_inputs = num_inputs\n",
    "        self.num_outputs = num_outputs\n",
    "        self.learning_rate = learning_rate\n",
    "        self.epochs = epochs\n",
    "\n",
    "        # init weights\n",
    "        self.weight = np.random.rand(self.num_outputs, self.num_inputs)\n",
    "        print(self.weight)\n",
    "\n",
    "    def fit(self, X):\n",
    "        for i in range(self.epochs):\n",
    "            # print(f'Epoch {i+1}')\n",
    "            for idx, x in enumerate(X):\n",
    "                d = [np.linalg.norm(e) for e in x - self.weight]\n",
    "                winner = np.argmin(d)\n",
    "                self.weight[winner] += self.learning_rate * (x - self.weight[winner])\n",
    "            # print(self.weight)\n",
    "\n",
    "    def predict(self, X):\n",
    "        pred = []\n",
    "        for idx, x in enumerate(X):\n",
    "            d = [np.linalg.norm(e) for e in x - self.weight]\n",
    "            winner = np.argmin(d)\n",
    "            pred.append(winner)\n",
    "        return np.array(pred)"
   ]
  },
  {
   "cell_type": "code",
   "execution_count": 123,
   "id": "d9829844-55a1-4fc7-955a-bbb114bdf3fd",
   "metadata": {},
   "outputs": [
    {
     "name": "stdout",
     "output_type": "stream",
     "text": [
      "[[0.25483244 0.5837602  0.25502418 0.58047428]\n",
      " [0.50269788 0.37694762 0.32751461 0.2654707 ]]\n",
      "          0         1         2         3\n",
      "0  0.348693  0.167923  0.415221  0.698901\n",
      "1  0.722933  0.730884  0.898217  0.018018\n",
      "2  0.952751  0.592193  0.808412  0.337178\n",
      "3  0.498833  0.923265  0.148405  0.952739\n",
      "4  0.723936  0.506136  0.051491  0.982006\n"
     ]
    }
   ],
   "source": [
    "kson = KSON(4, 2)\n",
    "X = np.random.rand(40).reshape(-1, 4)\n",
    "df = pd.DataFrame(X)\n",
    "print(df.head())\n",
    "kson.fit(X)"
   ]
  },
  {
   "cell_type": "code",
   "execution_count": 125,
   "id": "b05ad541-8c79-44b2-83bb-2ec707f5a0b4",
   "metadata": {},
   "outputs": [
    {
     "name": "stdout",
     "output_type": "stream",
     "text": [
      "Index(['id', 'diagnosis', 'radius_mean', 'texture_mean', 'perimeter_mean',\n",
      "       'area_mean', 'smoothness_mean', 'compactness_mean', 'concavity_mean',\n",
      "       'concave points_mean', 'symmetry_mean', 'fractal_dimension_mean',\n",
      "       'radius_se', 'texture_se', 'perimeter_se', 'area_se', 'smoothness_se',\n",
      "       'compactness_se', 'concavity_se', 'concave points_se', 'symmetry_se',\n",
      "       'fractal_dimension_se', 'radius_worst', 'texture_worst',\n",
      "       'perimeter_worst', 'area_worst', 'smoothness_worst',\n",
      "       'compactness_worst', 'concavity_worst', 'concave points_worst',\n",
      "       'symmetry_worst', 'fractal_dimension_worst', 'Unnamed: 32'],\n",
      "      dtype='object')\n"
     ]
    }
   ],
   "source": [
    "df = pd.read_csv('breast-cancer-wisconsin-data_data.csv')\n",
    "print(df.columns)\n",
    "from itertools import permutations\n",
    "p = permutations(df.columns[1:], 2)\n",
    "df['diagnosis'].replace('M', 1, inplace=True)\n",
    "df['diagnosis'].replace('B', 0, inplace=True)"
   ]
  },
  {
   "cell_type": "code",
   "execution_count": 126,
   "id": "0dbe7302-e621-4a61-b7b9-ff4fe3e39ba6",
   "metadata": {},
   "outputs": [
    {
     "name": "stdout",
     "output_type": "stream",
     "text": [
      "[[0.3571395  0.43564804 0.89932443 0.49113466 0.02476634 0.16342738\n",
      "  0.02335313 0.57136809 0.9443076  0.33540213 0.64780868 0.09341472\n",
      "  0.26995609 0.65967653 0.11797002 0.54233801 0.68247445 0.81876859\n",
      "  0.18682544 0.30934325 0.69424945 0.20171134 0.13960358 0.22070241\n",
      "  0.49411576 0.94540406 0.97128631 0.01055044 0.38211778 0.0821316 ]\n",
      " [0.29247805 0.31472294 0.07851046 0.87422796 0.29366307 0.66237568\n",
      "  0.06761967 0.41204833 0.99560494 0.61177179 0.32322542 0.80948527\n",
      "  0.18545468 0.96270862 0.11451452 0.15597928 0.45722585 0.21936997\n",
      "  0.64840245 0.07471538 0.50589863 0.4021637  0.19608313 0.93259356\n",
      "  0.67861649 0.16376892 0.05184263 0.96512654 0.55692761 0.38901993]]\n"
     ]
    },
    {
     "name": "stderr",
     "output_type": "stream",
     "text": [
      "C:\\Users\\STUDENT\\AppData\\Local\\Temp\\ipykernel_1828\\1395329354.py:18: RuntimeWarning: overflow encountered in multiply\n",
      "  self.weight[winner] += self.learning_rate * (x - self.weight[winner])\n",
      "C:\\Users\\STUDENT\\AppData\\Local\\Temp\\ipykernel_1828\\1395329354.py:18: RuntimeWarning: invalid value encountered in add\n",
      "  self.weight[winner] += self.learning_rate * (x - self.weight[winner])\n"
     ]
    },
    {
     "name": "stdout",
     "output_type": "stream",
     "text": [
      "[0 0 0 0 0 0 0 0 0 0 0 0 0 0 0 0 0 0 0 0 0 0 0 0 0 0 0 0 0 0 0 0 0 0 0 0 0\n",
      " 0 0 0 0 0 0 0 0 0 0 0 0 0 0 0 0 0 0 0 0 0 0 0 0 0 0 0 0 0 0 0 0 0 0 0 0 0\n",
      " 0 0 0 0 0 0 0 0 0 0 0 0 0 0 0 0 0 0 0 0 0 0 0 0 0 0 0 0 0 0 0 0 0 0 0 0 0\n",
      " 0 0 0]\n",
      "[1 0 0 0 0 0 0 0 0 0 0 0 0 0 0 0 1 0 0 0 1 1 1 1 1 0 0 1 1 1 1 0 1 0 1 1 1\n",
      " 0 1 0 0 0 1 1 0 1 0 1 0 0 1 0 0 1 0 1 0 0 0 1 0 0 1 1 1 1 1 1 1 0 0 1 0 0\n",
      " 1 1 1 0 1 0 0 0 0 1 0 1 0 1 0 1 0 0 0 0 1 1 0 0 1 0 0 1 0 1 0 1 0 1 0 0 1\n",
      " 0 0 0]\n",
      "0.5789473684210527\n"
     ]
    }
   ],
   "source": [
    "X = df.iloc[:, 2:32]\n",
    "y = df.iloc[:, 1]\n",
    "X_train, X_test, y_train, y_test = train_test_split(X, y, test_size=0.2)\n",
    "X_train = np.array(X_train)\n",
    "X_test = np.array(X_test)\n",
    "y_train = np.array(y_train)\n",
    "y_test = np.array(y_test)\n",
    "kson = KSON(30, 2, 100)\n",
    "kson.fit(X_train)\n",
    "pred = kson.predict(X_test)\n",
    "print(pred)\n",
    "print(y_test)\n",
    "print(accuracy_score(y_test, pred))"
   ]
  },
  {
   "cell_type": "code",
   "execution_count": 45,
   "id": "4f94fca7-d6b8-4893-bf7d-7e5ed30134d8",
   "metadata": {},
   "outputs": [
    {
     "name": "stdout",
     "output_type": "stream",
     "text": [
      "Iteration 1\n",
      "[ 1. -1.  1.  1.  1.]\n",
      "Iteration 2\n",
      "[ 1. -1.  1. -1.  1.]\n",
      "Iteration 3\n",
      "Found\n",
      "Malformed: [-1, -1, -1, -1, 1]\n",
      "Fixed: [ 1. -1.  1. -1.  1.]\n"
     ]
    }
   ],
   "source": [
    "class HopfieldNetwork:\n",
    "    def __init__(self, num_inputs):\n",
    "        self.num_inputs = num_inputs\n",
    "        self.X = None\n",
    "        self.weight = np.zeros((self.num_inputs, self.num_inputs))\n",
    "        # print(self.weight)\n",
    "\n",
    "    def fit(self, X):\n",
    "        self.X = X\n",
    "        # print(self.X)\n",
    "        for pattern in X:\n",
    "            self.weight += np.dot(pattern.reshape(-1, 1), pattern.reshape(1, -1))\n",
    "\n",
    "        np.fill_diagonal(self.weight, 0)\n",
    "        # print(self.weight)\n",
    "\n",
    "\n",
    "    def predict(self, malformed):\n",
    "        _malformed = copy.deepcopy(malformed)\n",
    "        for i in range(5):\n",
    "            print(f'Iteration {i+1}')\n",
    "            fixed = np.dot(malformed, self.weight)\n",
    "            fixed[fixed >= 0] = 1\n",
    "            fixed[fixed < 0] = -1\n",
    "            if np.array_equal(malformed, fixed):\n",
    "                print(\"Found\")\n",
    "                print(f'Malformed: {_malformed}')\n",
    "                print(f'Fixed: {fixed}')\n",
    "                break\n",
    "\n",
    "            malformed = fixed\n",
    "            print(malformed)\n",
    "            \n",
    "hp = HopfieldNetwork(5)\n",
    "X = np.array([\n",
    "    [-1, -1, 1, -1, 1],\n",
    "    [1, -1, 1, -1, 1],\n",
    "    [-1, 1, -1, 1, -1],\n",
    "    [1, 1 ,1, -1, -1]\n",
    "], dtype='float32')\n",
    "hp.fit(X)\n",
    "hp.predict([-1, -1, -1, -1, 1])"
   ]
  }
 ],
 "metadata": {
  "kernelspec": {
   "display_name": "Python 3 (ipykernel)",
   "language": "python",
   "name": "python3"
  },
  "language_info": {
   "codemirror_mode": {
    "name": "ipython",
    "version": 3
   },
   "file_extension": ".py",
   "mimetype": "text/x-python",
   "name": "python",
   "nbconvert_exporter": "python",
   "pygments_lexer": "ipython3",
   "version": "3.11.6"
  }
 },
 "nbformat": 4,
 "nbformat_minor": 5
}
